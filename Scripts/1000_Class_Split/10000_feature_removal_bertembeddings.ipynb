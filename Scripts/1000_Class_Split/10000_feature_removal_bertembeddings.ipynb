{
 "cells": [
  {
   "cell_type": "code",
   "execution_count": 2,
   "metadata": {},
   "outputs": [],
   "source": [
    "import pandas as pd\n",
    "import numpy as np\n",
    "import matplotlib.pyplot as plt\n",
    "import faiss\n",
    "from sklearn.linear_model import LogisticRegression\n",
    "from sklearn.svm import SVC\n",
    "from sklearn.ensemble import RandomForestClassifier\n",
    "from sklearn.metrics import classification_report, confusion_matrix, f1_score\n",
    "import re\n",
    "import spacy\n",
    "from sklearn.feature_extraction.text import CountVectorizer, TfidfVectorizer\n",
    "from sklearn.model_selection import train_test_split, GridSearchCV, RandomizedSearchCV\n",
    "from sklearn.utils import resample\n",
    "import pickle\n",
    "from sklearn.preprocessing import StandardScaler\n",
    "from sklearn.decomposition import TruncatedSVD\n",
    "from sklearn.utils.class_weight import compute_class_weight\n",
    "from imblearn.over_sampling import SMOTE\n",
    "from scipy.sparse import hstack, csr_matrix\n",
    "from scipy.stats import uniform, randint\n"
   ]
  },
  {
   "cell_type": "code",
   "execution_count": 3,
   "metadata": {},
   "outputs": [],
   "source": [
    "data = pd.read_csv('../../Datasets/balanced_data.csv')"
   ]
  },
  {
   "cell_type": "code",
   "execution_count": 18,
   "metadata": {},
   "outputs": [
    {
     "data": {
      "text/plain": [
       "Index(['Label', 'Preprocessed_Content', 'sentiment', 'hate_speech_count',\n",
       "       'pos_tags', 'word2vec', 'sbert_embedding', 'lexical_diversity',\n",
       "       'sentence_complexity'],\n",
       "      dtype='object')"
      ]
     },
     "execution_count": 18,
     "metadata": {},
     "output_type": "execute_result"
    }
   ],
   "source": [
    "data.columns"
   ]
  },
  {
   "cell_type": "code",
   "execution_count": 4,
   "metadata": {},
   "outputs": [
    {
     "data": {
      "text/plain": [
       "Label\n",
       "0    30000\n",
       "1    30000\n",
       "Name: count, dtype: int64"
      ]
     },
     "execution_count": 4,
     "metadata": {},
     "output_type": "execute_result"
    }
   ],
   "source": [
    "data['Label'].value_counts()"
   ]
  },
  {
   "cell_type": "code",
   "execution_count": 5,
   "metadata": {},
   "outputs": [
    {
     "name": "stdout",
     "output_type": "stream",
     "text": [
      "Label\n",
      "1    10000\n",
      "0    10000\n",
      "Name: count, dtype: int64\n"
     ]
    }
   ],
   "source": [
    "from sklearn.utils import resample\n",
    "\n",
    "class_0 = data[data['Label'] == 0]\n",
    "class_1 = data[data['Label'] == 1]\n",
    "\n",
    "class_0_sampled = resample(class_0, n_samples=10000, random_state=42)\n",
    "class_1_sampled = resample(class_1, n_samples=10000, random_state=42)\n",
    "\n",
    "balanced_data = pd.concat([class_0_sampled, class_1_sampled])\n",
    "\n",
    "balanced_data = balanced_data.sample(frac=1, random_state=42).reset_index(drop=True)\n",
    "\n",
    "print(balanced_data['Label'].value_counts())\n"
   ]
  },
  {
   "cell_type": "code",
   "execution_count": 6,
   "metadata": {},
   "outputs": [],
   "source": [
    "train_data = balanced_data"
   ]
  },
  {
   "cell_type": "code",
   "execution_count": 7,
   "metadata": {},
   "outputs": [],
   "source": [
    "tfidf = TfidfVectorizer(ngram_range=(2, 3), stop_words='english')\n",
    "X_tfidf = tfidf.fit_transform(train_data['Preprocessed_Content'])"
   ]
  },
  {
   "cell_type": "code",
   "execution_count": 8,
   "metadata": {},
   "outputs": [],
   "source": [
    "vectorizer = CountVectorizer(ngram_range=(2, 3), stop_words='english')\n",
    "X_bow = vectorizer.fit_transform(train_data['Preprocessed_Content'])"
   ]
  },
  {
   "cell_type": "code",
   "execution_count": 9,
   "metadata": {
    "tags": []
   },
   "outputs": [],
   "source": [
    "X = hstack([\n",
    "    X_tfidf,\n",
    "    X_bow,  \n",
    "    train_data[['sentiment', 'hate_speech_count', 'lexical_diversity', 'sentence_complexity']].values\n",
    "])\n",
    "\n",
    "Y = train_data['Label']"
   ]
  },
  {
   "cell_type": "code",
   "execution_count": 10,
   "metadata": {},
   "outputs": [],
   "source": [
    "smote = SMOTE(random_state=42)\n",
    "X_res, Y_res = smote.fit_resample(X, Y)"
   ]
  },
  {
   "cell_type": "code",
   "execution_count": 11,
   "metadata": {},
   "outputs": [],
   "source": [
    "X_train, X_test, Y_train, Y_test = train_test_split(X_res, Y_res, test_size=0.2, random_state=42)"
   ]
  },
  {
   "cell_type": "code",
   "execution_count": 12,
   "metadata": {
    "tags": []
   },
   "outputs": [],
   "source": [
    "class_weights = compute_class_weight('balanced', classes=np.unique(Y_res), y=Y_res)\n",
    "class_weight_dict = dict(zip(np.unique(Y_res), class_weights))"
   ]
  },
  {
   "cell_type": "code",
   "execution_count": 13,
   "metadata": {},
   "outputs": [
    {
     "name": "stdout",
     "output_type": "stream",
     "text": [
      "Logistic Regression Trained\n",
      "Logistic Regression Performance:\n",
      "              precision    recall  f1-score   support\n",
      "\n",
      "           0       0.84      0.70      0.76      2055\n",
      "           1       0.73      0.86      0.79      1945\n",
      "\n",
      "    accuracy                           0.77      4000\n",
      "   macro avg       0.78      0.78      0.77      4000\n",
      "weighted avg       0.78      0.77      0.77      4000\n",
      "\n"
     ]
    }
   ],
   "source": [
    "# === LOGISTIC REGRESSION ===\n",
    "logistic_model = LogisticRegression(max_iter=500, C=1.0)\n",
    "logistic_model.fit(X_train, Y_train)\n",
    "print('Logistic Regression Trained')\n",
    "\n",
    "logistic_pred = logistic_model.predict(X_test)\n",
    "print(\"Logistic Regression Performance:\")\n",
    "print(classification_report(Y_test, logistic_pred))"
   ]
  },
  {
   "cell_type": "code",
   "execution_count": 14,
   "metadata": {
    "tags": []
   },
   "outputs": [
    {
     "name": "stdout",
     "output_type": "stream",
     "text": [
      "Fitting 2 folds for each of 3 candidates, totalling 6 fits\n",
      "Random Forest Performance:\n",
      "              precision    recall  f1-score   support\n",
      "\n",
      "           0       0.78      0.76      0.77      2055\n",
      "           1       0.76      0.77      0.76      1945\n",
      "\n",
      "    accuracy                           0.77      4000\n",
      "   macro avg       0.77      0.77      0.77      4000\n",
      "weighted avg       0.77      0.77      0.77      4000\n",
      "\n"
     ]
    }
   ],
   "source": [
    "# === RFC using RandomizedSearchCV ===\n",
    "rf_params = {\n",
    "    'n_estimators': [100],\n",
    "    'max_depth': [10, 20, None],\n",
    "    'max_features': ['sqrt'],\n",
    "    'min_samples_split': [2, 5],\n",
    "    'min_samples_leaf': [1, 2]\n",
    "}\n",
    "\n",
    "rf_model = RandomizedSearchCV(\n",
    "    RandomForestClassifier(n_jobs=-1, random_state=42), \n",
    "    rf_params, \n",
    "    n_iter=3, \n",
    "    cv=2, \n",
    "    scoring='accuracy', \n",
    "    n_jobs=-1, \n",
    "    verbose=1, \n",
    "    random_state=42\n",
    ")\n",
    "\n",
    "rf_model.fit(X_train, Y_train)\n",
    "\n",
    "rf_pred = rf_model.best_estimator_.predict(X_test)\n",
    "print(\"Random Forest Performance:\")\n",
    "print(classification_report(Y_test, rf_pred))\n"
   ]
  },
  {
   "cell_type": "code",
   "execution_count": null,
   "metadata": {},
   "outputs": [],
   "source": [
    "# === SVM using RandomizedSearchCV ===\n",
    "svm_params = {'C': np.logspace(-2, 2, 5), 'kernel': ['rbf']}\n",
    "svm_model = RandomizedSearchCV(SVC(cache_size=1000), svm_params, n_iter=3, cv=2, scoring='accuracy', n_jobs=-1, random_state=42)\n",
    "svm_model.fit(X_train, Y_train)\n",
    "print('SVM Trained')\n",
    "\n",
    "svm_pred = svm_model.best_estimator_.predict(X_test)\n",
    "print(\"SVM Performance:\")\n",
    "print(classification_report(Y_test, svm_pred))"
   ]
  }
 ],
 "metadata": {
  "kernelspec": {
   "display_name": "Python 3",
   "language": "python",
   "name": "python3"
  },
  "language_info": {
   "codemirror_mode": {
    "name": "ipython",
    "version": 3
   },
   "file_extension": ".py",
   "mimetype": "text/x-python",
   "name": "python",
   "nbconvert_exporter": "python",
   "pygments_lexer": "ipython3",
   "version": "3.12.4"
  }
 },
 "nbformat": 4,
 "nbformat_minor": 4
}
