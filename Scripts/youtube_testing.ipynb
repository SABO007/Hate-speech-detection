{
 "cells": [
  {
   "cell_type": "code",
   "execution_count": 20,
   "metadata": {},
   "outputs": [],
   "source": [
    "import pandas as pd\n",
    "import numpy as np\n",
    "import matplotlib.pyplot as plt\n",
    "import faiss\n",
    "from sklearn.linear_model import LogisticRegression\n",
    "from sklearn.svm import SVC\n",
    "from sklearn.ensemble import RandomForestClassifier\n",
    "from sklearn.metrics import classification_report, confusion_matrix, f1_score\n",
    "import re\n",
    "import spacy\n",
    "from sklearn.feature_extraction.text import CountVectorizer, TfidfVectorizer\n",
    "from sklearn.model_selection import train_test_split, GridSearchCV, RandomizedSearchCV\n",
    "from sklearn.utils import resample\n",
    "import pickle\n",
    "from sklearn.preprocessing import StandardScaler\n",
    "from sklearn.decomposition import TruncatedSVD\n",
    "from sklearn.utils.class_weight import compute_class_weight\n",
    "from imblearn.over_sampling import SMOTE\n",
    "from scipy.sparse import hstack, csr_matrix\n",
    "from scipy.stats import uniform, randint\n"
   ]
  },
  {
   "cell_type": "code",
   "execution_count": 21,
   "metadata": {},
   "outputs": [],
   "source": [
    "data = pd.read_csv('../YouTube_Datasets/features_youtube.csv')"
   ]
  },
  {
   "cell_type": "code",
   "execution_count": 22,
   "metadata": {},
   "outputs": [
    {
     "data": {
      "text/plain": [
       "Label\n",
       "0    593\n",
       "1     76\n",
       "Name: count, dtype: int64"
      ]
     },
     "execution_count": 22,
     "metadata": {},
     "output_type": "execute_result"
    }
   ],
   "source": [
    "data['Label'].value_counts()"
   ]
  },
  {
   "cell_type": "code",
   "execution_count": 23,
   "metadata": {},
   "outputs": [
    {
     "name": "stdout",
     "output_type": "stream",
     "text": [
      "Label\n",
      "0    76\n",
      "1    76\n",
      "Name: count, dtype: int64\n"
     ]
    }
   ],
   "source": [
    "from sklearn.utils import resample\n",
    "\n",
    "class_0 = data[data['Label'] == 0]\n",
    "class_1 = data[data['Label'] == 1]\n",
    "\n",
    "class_0_sampled = resample(class_0, n_samples=76, random_state=42)\n",
    "class_1_sampled = resample(class_1, n_samples=76, random_state=42)\n",
    "\n",
    "balanced_data = pd.concat([class_0_sampled, class_1_sampled])\n",
    "\n",
    "data = balanced_data.sample(frac=1, random_state=42).reset_index(drop=True)\n",
    "\n",
    "print(balanced_data['Label'].value_counts())\n"
   ]
  },
  {
   "cell_type": "code",
   "execution_count": 24,
   "metadata": {},
   "outputs": [],
   "source": [
    "data.dropna(inplace=True)\n",
    "data.reset_index(drop=True, inplace=True)\n",
    "data.drop_duplicates(inplace=True)"
   ]
  },
  {
   "cell_type": "markdown",
   "metadata": {},
   "source": [
    "### Validating using Bert + TFIDF Feature combination"
   ]
  },
  {
   "cell_type": "code",
   "execution_count": 25,
   "metadata": {},
   "outputs": [
    {
     "name": "stdout",
     "output_type": "stream",
     "text": [
      "Embeddings Shape: (118, 384)\n"
     ]
    }
   ],
   "source": [
    "def convert_embedding(embedding):\n",
    "    if isinstance(embedding, np.ndarray):\n",
    "        return embedding\n",
    "    elif isinstance(embedding, list):\n",
    "        return np.array(embedding, dtype=np.float32)\n",
    "    elif isinstance(embedding, str):\n",
    "        embedding = embedding.strip(\"[]\")\n",
    "        embedding = np.array([float(x) for x in embedding.split()], dtype=np.float32)\n",
    "        return embedding\n",
    "    else:\n",
    "        return np.zeros(768, dtype=np.float32)\n",
    "\n",
    "data['sbert_embedding'] = data['sbert_embedding'].apply(convert_embedding)\n",
    "\n",
    "embeddings = np.stack(data['sbert_embedding'].values)\n",
    "\n",
    "print(\"Embeddings Shape:\", embeddings.shape)"
   ]
  },
  {
   "cell_type": "code",
   "execution_count": 26,
   "metadata": {},
   "outputs": [],
   "source": [
    "faiss_index = faiss.IndexFlatL2(embeddings.shape[1])\n",
    "faiss_index.add(embeddings)"
   ]
  },
  {
   "cell_type": "code",
   "execution_count": 27,
   "metadata": {},
   "outputs": [],
   "source": [
    "import joblib\n",
    "\n",
    "tfidf = joblib.load('../Models/tfidf_bert_vectorizer.joblib')\n",
    "X_tfidf = tfidf.transform(data['Preprocessed_content'])"
   ]
  },
  {
   "cell_type": "code",
   "execution_count": 28,
   "metadata": {},
   "outputs": [],
   "source": [
    "# smote = SMOTE(random_state=42)\n",
    "# X, Y = smote.fit_resample(X, Y)"
   ]
  },
  {
   "cell_type": "code",
   "execution_count": 29,
   "metadata": {},
   "outputs": [],
   "source": [
    "X = hstack([\n",
    "    X_tfidf,\n",
    "    embeddings,\n",
    "    ])\n",
    "\n",
    "Y = data['Label']"
   ]
  },
  {
   "cell_type": "code",
   "execution_count": 30,
   "metadata": {},
   "outputs": [],
   "source": [
    "LR = joblib.load('../Models/tfidf_bert_model.joblib')"
   ]
  },
  {
   "cell_type": "code",
   "execution_count": 31,
   "metadata": {},
   "outputs": [
    {
     "name": "stdout",
     "output_type": "stream",
     "text": [
      "Logistic Regression Performance:\n",
      "              precision    recall  f1-score   support\n",
      "\n",
      "           0       0.76      0.72      0.74        72\n",
      "           1       0.60      0.65      0.62        46\n",
      "\n",
      "    accuracy                           0.69       118\n",
      "   macro avg       0.68      0.69      0.68       118\n",
      "weighted avg       0.70      0.69      0.70       118\n",
      "\n"
     ]
    }
   ],
   "source": [
    "logistic_pred = LR.predict(X)\n",
    "print(\"Logistic Regression Performance:\")\n",
    "print(classification_report(Y, logistic_pred))"
   ]
  },
  {
   "cell_type": "markdown",
   "metadata": {},
   "source": [
    "### Validating using only TFIDF Feature input"
   ]
  },
  {
   "cell_type": "code",
   "execution_count": 32,
   "metadata": {},
   "outputs": [],
   "source": [
    "import joblib\n",
    "\n",
    "tfidf = joblib.load('../Models/only_tfidf_vectorizer.joblib')\n",
    "X_tfidf = tfidf.transform(data['Preprocessed_content'])"
   ]
  },
  {
   "cell_type": "code",
   "execution_count": 33,
   "metadata": {},
   "outputs": [],
   "source": [
    "# smote = SMOTE(random_state=42)\n",
    "# X, Y = smote.fit_resample(X, Y)"
   ]
  },
  {
   "cell_type": "code",
   "execution_count": 34,
   "metadata": {},
   "outputs": [],
   "source": [
    "X = X_tfidf\n",
    "\n",
    "Y = data['Label']"
   ]
  },
  {
   "cell_type": "code",
   "execution_count": 35,
   "metadata": {},
   "outputs": [],
   "source": [
    "LR = joblib.load('../Models/only_tfidf_model.joblib')"
   ]
  },
  {
   "cell_type": "code",
   "execution_count": 36,
   "metadata": {},
   "outputs": [
    {
     "name": "stdout",
     "output_type": "stream",
     "text": [
      "Logistic Regression Performance:\n",
      "              precision    recall  f1-score   support\n",
      "\n",
      "           0       0.55      0.15      0.24        72\n",
      "           1       0.38      0.80      0.51        46\n",
      "\n",
      "    accuracy                           0.41       118\n",
      "   macro avg       0.46      0.48      0.38       118\n",
      "weighted avg       0.48      0.41      0.35       118\n",
      "\n"
     ]
    }
   ],
   "source": [
    "logistic_pred = LR.predict(X)\n",
    "print(\"Logistic Regression Performance:\")\n",
    "print(classification_report(Y, logistic_pred))"
   ]
  },
  {
   "cell_type": "markdown",
   "metadata": {},
   "source": [
    "### Validating using only Bert embeddings Feature input"
   ]
  },
  {
   "cell_type": "code",
   "execution_count": 37,
   "metadata": {},
   "outputs": [
    {
     "name": "stdout",
     "output_type": "stream",
     "text": [
      "Embeddings Shape: (118, 384)\n"
     ]
    }
   ],
   "source": [
    "def convert_embedding(embedding):\n",
    "    if isinstance(embedding, np.ndarray):\n",
    "        return embedding\n",
    "    elif isinstance(embedding, list):\n",
    "        return np.array(embedding, dtype=np.float32)\n",
    "    elif isinstance(embedding, str):\n",
    "        embedding = embedding.strip(\"[]\")\n",
    "        embedding = np.array([float(x) for x in embedding.split()], dtype=np.float32)\n",
    "        return embedding\n",
    "    else:\n",
    "        return np.zeros(768, dtype=np.float32)\n",
    "\n",
    "data['sbert_embedding'] = data['sbert_embedding'].apply(convert_embedding)\n",
    "\n",
    "embeddings = np.stack(data['sbert_embedding'].values)\n",
    "\n",
    "print(\"Embeddings Shape:\", embeddings.shape)"
   ]
  },
  {
   "cell_type": "code",
   "execution_count": 38,
   "metadata": {},
   "outputs": [],
   "source": [
    "faiss_index = faiss.IndexFlatL2(embeddings.shape[1])\n",
    "faiss_index.add(embeddings)"
   ]
  },
  {
   "cell_type": "code",
   "execution_count": 42,
   "metadata": {},
   "outputs": [],
   "source": [
    "X = embeddings\n",
    "\n",
    "Y = data['Label']"
   ]
  },
  {
   "cell_type": "code",
   "execution_count": 43,
   "metadata": {},
   "outputs": [],
   "source": [
    "LR = joblib.load('../Models/only_bert_model.joblib')"
   ]
  },
  {
   "cell_type": "code",
   "execution_count": 44,
   "metadata": {},
   "outputs": [
    {
     "name": "stdout",
     "output_type": "stream",
     "text": [
      "Logistic Regression Performance:\n",
      "              precision    recall  f1-score   support\n",
      "\n",
      "           0       0.78      0.72      0.75        72\n",
      "           1       0.61      0.67      0.64        46\n",
      "\n",
      "    accuracy                           0.70       118\n",
      "   macro avg       0.69      0.70      0.69       118\n",
      "weighted avg       0.71      0.70      0.71       118\n",
      "\n"
     ]
    }
   ],
   "source": [
    "logistic_pred = LR.predict(X)\n",
    "print(\"Logistic Regression Performance:\")\n",
    "print(classification_report(Y, logistic_pred))"
   ]
  }
 ],
 "metadata": {
  "kernelspec": {
   "display_name": "Python 3",
   "language": "python",
   "name": "python3"
  },
  "language_info": {
   "codemirror_mode": {
    "name": "ipython",
    "version": 3
   },
   "file_extension": ".py",
   "mimetype": "text/x-python",
   "name": "python",
   "nbconvert_exporter": "python",
   "pygments_lexer": "ipython3",
   "version": "3.12.4"
  }
 },
 "nbformat": 4,
 "nbformat_minor": 2
}
